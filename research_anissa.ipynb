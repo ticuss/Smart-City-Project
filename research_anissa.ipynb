{
 "cells": [
  {
   "cell_type": "markdown",
   "id": "e69ada22",
   "metadata": {},
   "source": []
  },
  {
   "cell_type": "code",
   "execution_count": 6,
   "id": "82066968",
   "metadata": {},
   "outputs": [
    {
     "ename": "KeyError",
     "evalue": "\"There is no item named 'dans-ma-rue.csv' in the archive\"",
     "output_type": "error",
     "traceback": [
      "\u001b[0;31m---------------------------------------------------------------------------\u001b[0m",
      "\u001b[0;31mKeyError\u001b[0m                                  Traceback (most recent call last)",
      "\u001b[0;32m<ipython-input-6-64cf1639f90c>\u001b[0m in \u001b[0;36m<module>\u001b[0;34m\u001b[0m\n\u001b[1;32m      2\u001b[0m \u001b[0;32mimport\u001b[0m \u001b[0mpandas\u001b[0m \u001b[0;32mas\u001b[0m \u001b[0mpd\u001b[0m\u001b[0;34m\u001b[0m\u001b[0;34m\u001b[0m\u001b[0m\n\u001b[1;32m      3\u001b[0m \u001b[0;32mwith\u001b[0m \u001b[0mZipFile\u001b[0m\u001b[0;34m(\u001b[0m\u001b[0;34m\"dans-ma-rue_1000.csv.zip\"\u001b[0m\u001b[0;34m)\u001b[0m \u001b[0;32mas\u001b[0m \u001b[0mmyzip\u001b[0m\u001b[0;34m:\u001b[0m\u001b[0;34m\u001b[0m\u001b[0;34m\u001b[0m\u001b[0m\n\u001b[0;32m----> 4\u001b[0;31m     \u001b[0mdata1\u001b[0m \u001b[0;34m=\u001b[0m \u001b[0mmyzip\u001b[0m\u001b[0;34m.\u001b[0m\u001b[0mopen\u001b[0m\u001b[0;34m(\u001b[0m\u001b[0;34m\"dans-ma-rue.csv\"\u001b[0m\u001b[0;34m)\u001b[0m\u001b[0;34m\u001b[0m\u001b[0;34m\u001b[0m\u001b[0m\n\u001b[0m\u001b[1;32m      5\u001b[0m \u001b[0;34m\u001b[0m\u001b[0m\n\u001b[1;32m      6\u001b[0m \u001b[0mdf1\u001b[0m \u001b[0;34m=\u001b[0m \u001b[0mpd\u001b[0m\u001b[0;34m.\u001b[0m\u001b[0mread_csv\u001b[0m\u001b[0;34m(\u001b[0m\u001b[0mdata1\u001b[0m\u001b[0;34m,\u001b[0m \u001b[0msep\u001b[0m \u001b[0;34m=\u001b[0m\u001b[0;34m';'\u001b[0m\u001b[0;34m)\u001b[0m\u001b[0;34m\u001b[0m\u001b[0;34m\u001b[0m\u001b[0m\n",
      "\u001b[0;32m~/opt/anaconda3/lib/python3.8/zipfile.py\u001b[0m in \u001b[0;36mopen\u001b[0;34m(self, name, mode, pwd, force_zip64)\u001b[0m\n\u001b[1;32m   1512\u001b[0m         \u001b[0;32melse\u001b[0m\u001b[0;34m:\u001b[0m\u001b[0;34m\u001b[0m\u001b[0;34m\u001b[0m\u001b[0m\n\u001b[1;32m   1513\u001b[0m             \u001b[0;31m# Get info object for name\u001b[0m\u001b[0;34m\u001b[0m\u001b[0;34m\u001b[0m\u001b[0;34m\u001b[0m\u001b[0m\n\u001b[0;32m-> 1514\u001b[0;31m             \u001b[0mzinfo\u001b[0m \u001b[0;34m=\u001b[0m \u001b[0mself\u001b[0m\u001b[0;34m.\u001b[0m\u001b[0mgetinfo\u001b[0m\u001b[0;34m(\u001b[0m\u001b[0mname\u001b[0m\u001b[0;34m)\u001b[0m\u001b[0;34m\u001b[0m\u001b[0;34m\u001b[0m\u001b[0m\n\u001b[0m\u001b[1;32m   1515\u001b[0m \u001b[0;34m\u001b[0m\u001b[0m\n\u001b[1;32m   1516\u001b[0m         \u001b[0;32mif\u001b[0m \u001b[0mmode\u001b[0m \u001b[0;34m==\u001b[0m \u001b[0;34m'w'\u001b[0m\u001b[0;34m:\u001b[0m\u001b[0;34m\u001b[0m\u001b[0;34m\u001b[0m\u001b[0m\n",
      "\u001b[0;32m~/opt/anaconda3/lib/python3.8/zipfile.py\u001b[0m in \u001b[0;36mgetinfo\u001b[0;34m(self, name)\u001b[0m\n\u001b[1;32m   1439\u001b[0m         \u001b[0minfo\u001b[0m \u001b[0;34m=\u001b[0m \u001b[0mself\u001b[0m\u001b[0;34m.\u001b[0m\u001b[0mNameToInfo\u001b[0m\u001b[0;34m.\u001b[0m\u001b[0mget\u001b[0m\u001b[0;34m(\u001b[0m\u001b[0mname\u001b[0m\u001b[0;34m)\u001b[0m\u001b[0;34m\u001b[0m\u001b[0;34m\u001b[0m\u001b[0m\n\u001b[1;32m   1440\u001b[0m         \u001b[0;32mif\u001b[0m \u001b[0minfo\u001b[0m \u001b[0;32mis\u001b[0m \u001b[0;32mNone\u001b[0m\u001b[0;34m:\u001b[0m\u001b[0;34m\u001b[0m\u001b[0;34m\u001b[0m\u001b[0m\n\u001b[0;32m-> 1441\u001b[0;31m             raise KeyError(\n\u001b[0m\u001b[1;32m   1442\u001b[0m                 'There is no item named %r in the archive' % name)\n\u001b[1;32m   1443\u001b[0m \u001b[0;34m\u001b[0m\u001b[0m\n",
      "\u001b[0;31mKeyError\u001b[0m: \"There is no item named 'dans-ma-rue.csv' in the archive\""
     ]
    }
   ],
   "source": [
    "from zipfile import ZipFile, Path\n",
    "import pandas as pd\n",
    "with ZipFile(\"dans-ma-rue_1000.csv.zip\") as myzip:\n",
    "    data1 = myzip.open(\"dans-ma-rue.csv\")\n",
    "\n",
    "df1 = pd.read_csv(data1, sep =';')\n",
    "df1.columns"
   ]
  },
  {
   "cell_type": "code",
   "execution_count": null,
   "id": "f1100fdc",
   "metadata": {},
   "outputs": [],
   "source": [
    "df1"
   ]
  },
  {
   "cell_type": "code",
   "execution_count": null,
   "id": "47ab19d2",
   "metadata": {},
   "outputs": [],
   "source": [
    "with ZipFile(\"DMR_2020.csv.zip\") as myzip:\n",
    "    data2 = myzip.open(\"DMR_2020.csv\")\n",
    "\n",
    "df2 = pd.read_csv(data2, sep =';')\n",
    "df2.columns"
   ]
  },
  {
   "cell_type": "code",
   "execution_count": 2,
   "id": "a8962afa",
   "metadata": {},
   "outputs": [
    {
     "ename": "NameError",
     "evalue": "name 'df2' is not defined",
     "output_type": "error",
     "traceback": [
      "\u001b[0;31m---------------------------------------------------------------------------\u001b[0m",
      "\u001b[0;31mNameError\u001b[0m                                 Traceback (most recent call last)",
      "\u001b[0;32m<ipython-input-2-68302b2f4bd0>\u001b[0m in \u001b[0;36m<module>\u001b[0;34m\u001b[0m\n\u001b[0;32m----> 1\u001b[0;31m \u001b[0mdf2\u001b[0m\u001b[0;34m.\u001b[0m\u001b[0mhead\u001b[0m\u001b[0;34m(\u001b[0m\u001b[0;34m)\u001b[0m\u001b[0;34m\u001b[0m\u001b[0;34m\u001b[0m\u001b[0m\n\u001b[0m",
      "\u001b[0;31mNameError\u001b[0m: name 'df2' is not defined"
     ]
    }
   ],
   "source": [
    "df2.head()"
   ]
  },
  {
   "cell_type": "code",
   "execution_count": 3,
   "id": "e1fef72b",
   "metadata": {},
   "outputs": [
    {
     "data": {
      "text/plain": [
       "Index(['OBJECTID', 'ID_DMR', 'TYPE', 'SOUSTYPE', 'ADRESSE', 'CODE_POSTAL',\n",
       "       'VILLE', 'ARRONDISSEMENT', 'DATEDECL', 'ANNEEDECL', 'MOISDECL',\n",
       "       'NUMERO', 'PREFIXE', 'INTERVENANT', 'CONSEILQUARTIER', 'X', 'Y'],\n",
       "      dtype='object')"
      ]
     },
     "execution_count": 3,
     "metadata": {},
     "output_type": "execute_result"
    }
   ],
   "source": [
    "with ZipFile(\"DMR_2019.csv.zip\") as myzip:\n",
    "    data3 = myzip.open(\"DMR_2019.csv\")\n",
    "\n",
    "df3 = pd.read_csv(data3, sep =';')\n",
    "df3.columns"
   ]
  },
  {
   "cell_type": "code",
   "execution_count": null,
   "id": "89e87b62",
   "metadata": {},
   "outputs": [],
   "source": []
  },
  {
   "cell_type": "markdown",
   "id": "5b19a30e",
   "metadata": {},
   "source": [
    "## Nettoyage et unification des datasets"
   ]
  },
  {
   "cell_type": "code",
   "execution_count": 7,
   "id": "1f45fe28",
   "metadata": {},
   "outputs": [
    {
     "data": {
      "text/plain": [
       "Index(['ID DECLARATION', 'TYPE DECLARATION', 'SOUS TYPE DECLARATION',\n",
       "       'ADRESSE', 'CODE POSTAL', 'VILLE', 'ARRONDISSEMENT',\n",
       "       'CONSEIL DE QUARTIER', 'DATE DECLARATION', 'ANNEE DECLARATION',\n",
       "       'MOIS DECLARATION', 'OUTIL SOURCE', 'INTERVENANT', 'ID_DMR',\n",
       "       'geo_shape', 'geo_point_2d'],\n",
       "      dtype='object')"
      ]
     },
     "execution_count": 7,
     "metadata": {},
     "output_type": "execute_result"
    }
   ],
   "source": [
    "df1.columns"
   ]
  },
  {
   "cell_type": "code",
   "execution_count": null,
   "id": "39ccd982",
   "metadata": {},
   "outputs": [],
   "source": [
    "#2021 changements:"
   ]
  },
  {
   "cell_type": "code",
   "execution_count": 8,
   "id": "8ccb4492",
   "metadata": {},
   "outputs": [
    {
     "data": {
      "text/plain": [
       "ID DECLARATION            int64\n",
       "TYPE DECLARATION         object\n",
       "SOUS TYPE DECLARATION    object\n",
       "ADRESSE                  object\n",
       "CODE POSTAL               int64\n",
       "VILLE                    object\n",
       "ARRONDISSEMENT            int64\n",
       "CONSEIL DE QUARTIER      object\n",
       "DATE DECLARATION         object\n",
       "ANNEE DECLARATION         int64\n",
       "MOIS DECLARATION          int64\n",
       "OUTIL SOURCE             object\n",
       "INTERVENANT              object\n",
       "ID_DMR                   object\n",
       "geo_shape                object\n",
       "geo_point_2d             object\n",
       "dtype: object"
      ]
     },
     "execution_count": 8,
     "metadata": {},
     "output_type": "execute_result"
    }
   ],
   "source": [
    "df1.dtypes"
   ]
  },
  {
   "cell_type": "code",
   "execution_count": 9,
   "id": "780ab2fc",
   "metadata": {},
   "outputs": [],
   "source": [
    "#split geo column\n",
    "df1[['X', 'Y']] = df1['geo_point_2d'].str.split(',', expand=True)\n"
   ]
  },
  {
   "cell_type": "code",
   "execution_count": 10,
   "id": "9637c83b",
   "metadata": {},
   "outputs": [
    {
     "data": {
      "text/html": [
       "<div>\n",
       "<style scoped>\n",
       "    .dataframe tbody tr th:only-of-type {\n",
       "        vertical-align: middle;\n",
       "    }\n",
       "\n",
       "    .dataframe tbody tr th {\n",
       "        vertical-align: top;\n",
       "    }\n",
       "\n",
       "    .dataframe thead th {\n",
       "        text-align: right;\n",
       "    }\n",
       "</style>\n",
       "<table border=\"1\" class=\"dataframe\">\n",
       "  <thead>\n",
       "    <tr style=\"text-align: right;\">\n",
       "      <th></th>\n",
       "      <th>ID DECLARATION</th>\n",
       "      <th>TYPE DECLARATION</th>\n",
       "      <th>SOUS TYPE DECLARATION</th>\n",
       "      <th>ADRESSE</th>\n",
       "      <th>CODE POSTAL</th>\n",
       "      <th>VILLE</th>\n",
       "      <th>ARRONDISSEMENT</th>\n",
       "      <th>CONSEIL DE QUARTIER</th>\n",
       "      <th>DATE DECLARATION</th>\n",
       "      <th>ANNEE DECLARATION</th>\n",
       "      <th>MOIS DECLARATION</th>\n",
       "      <th>OUTIL SOURCE</th>\n",
       "      <th>INTERVENANT</th>\n",
       "      <th>ID_DMR</th>\n",
       "      <th>geo_shape</th>\n",
       "      <th>geo_point_2d</th>\n",
       "      <th>X</th>\n",
       "      <th>Y</th>\n",
       "    </tr>\n",
       "  </thead>\n",
       "  <tbody>\n",
       "    <tr>\n",
       "      <th>0</th>\n",
       "      <td>11087</td>\n",
       "      <td>Mobiliers urbains</td>\n",
       "      <td>Collecte des déchets:Trilib' dégradé</td>\n",
       "      <td>18 Rue de Mazagran, 75010 PARIS</td>\n",
       "      <td>75010</td>\n",
       "      <td>Paris 10</td>\n",
       "      <td>10</td>\n",
       "      <td>PORTE SAINT-DENIS - PARADIS</td>\n",
       "      <td>2021-01-08</td>\n",
       "      <td>2021</td>\n",
       "      <td>1</td>\n",
       "      <td>IOPage DMR Paris.fr application</td>\n",
       "      <td>TRILIB'</td>\n",
       "      <td>A2021A011087</td>\n",
       "      <td>{\"coordinates\": [2.352240998304316, 48.8707730...</td>\n",
       "      <td>48.8707730016144,2.352240998304316</td>\n",
       "      <td>48.8707730016144</td>\n",
       "      <td>2.352240998304316</td>\n",
       "    </tr>\n",
       "    <tr>\n",
       "      <th>1</th>\n",
       "      <td>11899</td>\n",
       "      <td>Objets abandonnés</td>\n",
       "      <td>Autres objets encombrants abandonnés</td>\n",
       "      <td>58 Rue de l'Aqueduc, 75010 PARIS</td>\n",
       "      <td>75010</td>\n",
       "      <td>Paris 10</td>\n",
       "      <td>10</td>\n",
       "      <td>LOUIS BLANC - AQUEDUC</td>\n",
       "      <td>2021-01-08</td>\n",
       "      <td>2021</td>\n",
       "      <td>1</td>\n",
       "      <td>IOPage DMR Paris.fr application</td>\n",
       "      <td>Ramen en tant que prestataire de DansMaRue</td>\n",
       "      <td>A2021A011899</td>\n",
       "      <td>{\"coordinates\": [2.365264406238782, 48.8828470...</td>\n",
       "      <td>48.88284700351721,2.365264406238782</td>\n",
       "      <td>48.88284700351721</td>\n",
       "      <td>2.365264406238782</td>\n",
       "    </tr>\n",
       "    <tr>\n",
       "      <th>2</th>\n",
       "      <td>11909</td>\n",
       "      <td>Objets abandonnés</td>\n",
       "      <td>Autres objets encombrants abandonnés</td>\n",
       "      <td>106 Rue des Amandiers, 75020 PARIS</td>\n",
       "      <td>75020</td>\n",
       "      <td>Paris 20</td>\n",
       "      <td>20</td>\n",
       "      <td>AMANDIERS - MENILMONTANT</td>\n",
       "      <td>2021-01-08</td>\n",
       "      <td>2021</td>\n",
       "      <td>1</td>\n",
       "      <td>Androï</td>\n",
       "      <td>Ramen en tant que prestataire de DansMaRue</td>\n",
       "      <td>G2021A011909</td>\n",
       "      <td>{\"coordinates\": [2.388730996327768, 48.8677799...</td>\n",
       "      <td>48.86777999827195,2.388730996327768</td>\n",
       "      <td>48.86777999827195</td>\n",
       "      <td>2.388730996327768</td>\n",
       "    </tr>\n",
       "    <tr>\n",
       "      <th>3</th>\n",
       "      <td>11915</td>\n",
       "      <td>Graffitis, tags, affiches et autocollants</td>\n",
       "      <td>Graffitis sur mur, façade sur rue, pont</td>\n",
       "      <td>14 Rue Carrière-Mainguet, 75011 PARIS</td>\n",
       "      <td>75011</td>\n",
       "      <td>Paris 11</td>\n",
       "      <td>11</td>\n",
       "      <td>LEON BLUM - FOLIE-REGNAULT</td>\n",
       "      <td>2021-01-08</td>\n",
       "      <td>2021</td>\n",
       "      <td>1</td>\n",
       "      <td>Androï</td>\n",
       "      <td>graffitis</td>\n",
       "      <td>G2021A011915</td>\n",
       "      <td>{\"coordinates\": [2.387607803079172, 48.8565999...</td>\n",
       "      <td>48.856599995660474,2.387607803079172</td>\n",
       "      <td>48.856599995660474</td>\n",
       "      <td>2.387607803079172</td>\n",
       "    </tr>\n",
       "    <tr>\n",
       "      <th>4</th>\n",
       "      <td>11927</td>\n",
       "      <td>Objets abandonnés</td>\n",
       "      <td>Cartons</td>\n",
       "      <td>1 Square Alfred Capus, 75016 PARIS</td>\n",
       "      <td>75016</td>\n",
       "      <td>Paris 16</td>\n",
       "      <td>16</td>\n",
       "      <td>AUTEUIL NORD</td>\n",
       "      <td>2021-01-08</td>\n",
       "      <td>2021</td>\n",
       "      <td>1</td>\n",
       "      <td>IOPage DMR Paris.fr application</td>\n",
       "      <td>DPE-STPP-DT</td>\n",
       "      <td>A2021A011927</td>\n",
       "      <td>{\"coordinates\": [2.259631402809926, 48.8509370...</td>\n",
       "      <td>48.85093700329557,2.259631402809926</td>\n",
       "      <td>48.85093700329557</td>\n",
       "      <td>2.259631402809926</td>\n",
       "    </tr>\n",
       "  </tbody>\n",
       "</table>\n",
       "</div>"
      ],
      "text/plain": [
       "   ID DECLARATION                           TYPE DECLARATION  \\\n",
       "0           11087                          Mobiliers urbains   \n",
       "1           11899                          Objets abandonnés   \n",
       "2           11909                          Objets abandonnés   \n",
       "3           11915  Graffitis, tags, affiches et autocollants   \n",
       "4           11927                          Objets abandonnés   \n",
       "\n",
       "                     SOUS TYPE DECLARATION  \\\n",
       "0     Collecte des déchets:Trilib' dégradé   \n",
       "1     Autres objets encombrants abandonnés   \n",
       "2     Autres objets encombrants abandonnés   \n",
       "3  Graffitis sur mur, façade sur rue, pont   \n",
       "4                                  Cartons   \n",
       "\n",
       "                                 ADRESSE  CODE POSTAL     VILLE  \\\n",
       "0        18 Rue de Mazagran, 75010 PARIS        75010  Paris 10   \n",
       "1       58 Rue de l'Aqueduc, 75010 PARIS        75010  Paris 10   \n",
       "2     106 Rue des Amandiers, 75020 PARIS        75020  Paris 20   \n",
       "3  14 Rue Carrière-Mainguet, 75011 PARIS        75011  Paris 11   \n",
       "4     1 Square Alfred Capus, 75016 PARIS        75016  Paris 16   \n",
       "\n",
       "   ARRONDISSEMENT          CONSEIL DE QUARTIER DATE DECLARATION  \\\n",
       "0              10  PORTE SAINT-DENIS - PARADIS       2021-01-08   \n",
       "1              10        LOUIS BLANC - AQUEDUC       2021-01-08   \n",
       "2              20     AMANDIERS - MENILMONTANT       2021-01-08   \n",
       "3              11   LEON BLUM - FOLIE-REGNAULT       2021-01-08   \n",
       "4              16                 AUTEUIL NORD       2021-01-08   \n",
       "\n",
       "   ANNEE DECLARATION  MOIS DECLARATION                     OUTIL SOURCE  \\\n",
       "0               2021                 1  IOPage DMR Paris.fr application   \n",
       "1               2021                 1  IOPage DMR Paris.fr application   \n",
       "2               2021                 1                           Androï   \n",
       "3               2021                 1                           Androï   \n",
       "4               2021                 1  IOPage DMR Paris.fr application   \n",
       "\n",
       "                                  INTERVENANT        ID_DMR  \\\n",
       "0                                     TRILIB'  A2021A011087   \n",
       "1  Ramen en tant que prestataire de DansMaRue  A2021A011899   \n",
       "2  Ramen en tant que prestataire de DansMaRue  G2021A011909   \n",
       "3                                   graffitis  G2021A011915   \n",
       "4                                 DPE-STPP-DT  A2021A011927   \n",
       "\n",
       "                                           geo_shape  \\\n",
       "0  {\"coordinates\": [2.352240998304316, 48.8707730...   \n",
       "1  {\"coordinates\": [2.365264406238782, 48.8828470...   \n",
       "2  {\"coordinates\": [2.388730996327768, 48.8677799...   \n",
       "3  {\"coordinates\": [2.387607803079172, 48.8565999...   \n",
       "4  {\"coordinates\": [2.259631402809926, 48.8509370...   \n",
       "\n",
       "                           geo_point_2d                   X                  Y  \n",
       "0    48.8707730016144,2.352240998304316    48.8707730016144  2.352240998304316  \n",
       "1   48.88284700351721,2.365264406238782   48.88284700351721  2.365264406238782  \n",
       "2   48.86777999827195,2.388730996327768   48.86777999827195  2.388730996327768  \n",
       "3  48.856599995660474,2.387607803079172  48.856599995660474  2.387607803079172  \n",
       "4   48.85093700329557,2.259631402809926   48.85093700329557  2.259631402809926  "
      ]
     },
     "execution_count": 10,
     "metadata": {},
     "output_type": "execute_result"
    }
   ],
   "source": [
    "df1.head()"
   ]
  },
  {
   "cell_type": "code",
   "execution_count": null,
   "id": "9be20263",
   "metadata": {},
   "outputs": [],
   "source": []
  },
  {
   "cell_type": "code",
   "execution_count": 11,
   "id": "5c600a9c",
   "metadata": {},
   "outputs": [],
   "source": [
    "df1 = df1.drop(['ID DECLARATION', 'VILLE', 'ANNEE DECLARATION', 'MOIS DECLARATION',\n",
    "         'OUTIL SOURCE', 'ID_DMR', 'geo_shape', 'geo_point_2d', 'CONSEIL DE QUARTIER'], axis = 1)"
   ]
  },
  {
   "cell_type": "code",
   "execution_count": 12,
   "id": "87dfb112",
   "metadata": {},
   "outputs": [
    {
     "data": {
      "text/html": [
       "<div>\n",
       "<style scoped>\n",
       "    .dataframe tbody tr th:only-of-type {\n",
       "        vertical-align: middle;\n",
       "    }\n",
       "\n",
       "    .dataframe tbody tr th {\n",
       "        vertical-align: top;\n",
       "    }\n",
       "\n",
       "    .dataframe thead th {\n",
       "        text-align: right;\n",
       "    }\n",
       "</style>\n",
       "<table border=\"1\" class=\"dataframe\">\n",
       "  <thead>\n",
       "    <tr style=\"text-align: right;\">\n",
       "      <th></th>\n",
       "      <th>TYPE DECLARATION</th>\n",
       "      <th>SOUS TYPE DECLARATION</th>\n",
       "      <th>ADRESSE</th>\n",
       "      <th>CODE POSTAL</th>\n",
       "      <th>ARRONDISSEMENT</th>\n",
       "      <th>CONSEIL DE QUARTIER</th>\n",
       "      <th>DATE DECLARATION</th>\n",
       "      <th>INTERVENANT</th>\n",
       "      <th>X</th>\n",
       "      <th>Y</th>\n",
       "    </tr>\n",
       "  </thead>\n",
       "  <tbody>\n",
       "    <tr>\n",
       "      <th>0</th>\n",
       "      <td>Mobiliers urbains</td>\n",
       "      <td>Collecte des déchets:Trilib' dégradé</td>\n",
       "      <td>18 Rue de Mazagran, 75010 PARIS</td>\n",
       "      <td>75010</td>\n",
       "      <td>10</td>\n",
       "      <td>PORTE SAINT-DENIS - PARADIS</td>\n",
       "      <td>2021-01-08</td>\n",
       "      <td>TRILIB'</td>\n",
       "      <td>48.8707730016144</td>\n",
       "      <td>2.352240998304316</td>\n",
       "    </tr>\n",
       "    <tr>\n",
       "      <th>1</th>\n",
       "      <td>Objets abandonnés</td>\n",
       "      <td>Autres objets encombrants abandonnés</td>\n",
       "      <td>58 Rue de l'Aqueduc, 75010 PARIS</td>\n",
       "      <td>75010</td>\n",
       "      <td>10</td>\n",
       "      <td>LOUIS BLANC - AQUEDUC</td>\n",
       "      <td>2021-01-08</td>\n",
       "      <td>Ramen en tant que prestataire de DansMaRue</td>\n",
       "      <td>48.88284700351721</td>\n",
       "      <td>2.365264406238782</td>\n",
       "    </tr>\n",
       "    <tr>\n",
       "      <th>2</th>\n",
       "      <td>Objets abandonnés</td>\n",
       "      <td>Autres objets encombrants abandonnés</td>\n",
       "      <td>106 Rue des Amandiers, 75020 PARIS</td>\n",
       "      <td>75020</td>\n",
       "      <td>20</td>\n",
       "      <td>AMANDIERS - MENILMONTANT</td>\n",
       "      <td>2021-01-08</td>\n",
       "      <td>Ramen en tant que prestataire de DansMaRue</td>\n",
       "      <td>48.86777999827195</td>\n",
       "      <td>2.388730996327768</td>\n",
       "    </tr>\n",
       "    <tr>\n",
       "      <th>3</th>\n",
       "      <td>Graffitis, tags, affiches et autocollants</td>\n",
       "      <td>Graffitis sur mur, façade sur rue, pont</td>\n",
       "      <td>14 Rue Carrière-Mainguet, 75011 PARIS</td>\n",
       "      <td>75011</td>\n",
       "      <td>11</td>\n",
       "      <td>LEON BLUM - FOLIE-REGNAULT</td>\n",
       "      <td>2021-01-08</td>\n",
       "      <td>graffitis</td>\n",
       "      <td>48.856599995660474</td>\n",
       "      <td>2.387607803079172</td>\n",
       "    </tr>\n",
       "    <tr>\n",
       "      <th>4</th>\n",
       "      <td>Objets abandonnés</td>\n",
       "      <td>Cartons</td>\n",
       "      <td>1 Square Alfred Capus, 75016 PARIS</td>\n",
       "      <td>75016</td>\n",
       "      <td>16</td>\n",
       "      <td>AUTEUIL NORD</td>\n",
       "      <td>2021-01-08</td>\n",
       "      <td>DPE-STPP-DT</td>\n",
       "      <td>48.85093700329557</td>\n",
       "      <td>2.259631402809926</td>\n",
       "    </tr>\n",
       "  </tbody>\n",
       "</table>\n",
       "</div>"
      ],
      "text/plain": [
       "                            TYPE DECLARATION  \\\n",
       "0                          Mobiliers urbains   \n",
       "1                          Objets abandonnés   \n",
       "2                          Objets abandonnés   \n",
       "3  Graffitis, tags, affiches et autocollants   \n",
       "4                          Objets abandonnés   \n",
       "\n",
       "                     SOUS TYPE DECLARATION  \\\n",
       "0     Collecte des déchets:Trilib' dégradé   \n",
       "1     Autres objets encombrants abandonnés   \n",
       "2     Autres objets encombrants abandonnés   \n",
       "3  Graffitis sur mur, façade sur rue, pont   \n",
       "4                                  Cartons   \n",
       "\n",
       "                                 ADRESSE  CODE POSTAL  ARRONDISSEMENT  \\\n",
       "0        18 Rue de Mazagran, 75010 PARIS        75010              10   \n",
       "1       58 Rue de l'Aqueduc, 75010 PARIS        75010              10   \n",
       "2     106 Rue des Amandiers, 75020 PARIS        75020              20   \n",
       "3  14 Rue Carrière-Mainguet, 75011 PARIS        75011              11   \n",
       "4     1 Square Alfred Capus, 75016 PARIS        75016              16   \n",
       "\n",
       "           CONSEIL DE QUARTIER DATE DECLARATION  \\\n",
       "0  PORTE SAINT-DENIS - PARADIS       2021-01-08   \n",
       "1        LOUIS BLANC - AQUEDUC       2021-01-08   \n",
       "2     AMANDIERS - MENILMONTANT       2021-01-08   \n",
       "3   LEON BLUM - FOLIE-REGNAULT       2021-01-08   \n",
       "4                 AUTEUIL NORD       2021-01-08   \n",
       "\n",
       "                                  INTERVENANT                   X  \\\n",
       "0                                     TRILIB'    48.8707730016144   \n",
       "1  Ramen en tant que prestataire de DansMaRue   48.88284700351721   \n",
       "2  Ramen en tant que prestataire de DansMaRue   48.86777999827195   \n",
       "3                                   graffitis  48.856599995660474   \n",
       "4                                 DPE-STPP-DT   48.85093700329557   \n",
       "\n",
       "                   Y  \n",
       "0  2.352240998304316  \n",
       "1  2.365264406238782  \n",
       "2  2.388730996327768  \n",
       "3  2.387607803079172  \n",
       "4  2.259631402809926  "
      ]
     },
     "execution_count": 12,
     "metadata": {},
     "output_type": "execute_result"
    }
   ],
   "source": [
    "df1.head()"
   ]
  },
  {
   "cell_type": "code",
   "execution_count": 13,
   "id": "ac816c43",
   "metadata": {},
   "outputs": [],
   "source": [
    "df1['X'] = df1['X'].astype(float)\n",
    "df1['Y'] = df1['Y'].astype(float)"
   ]
  },
  {
   "cell_type": "code",
   "execution_count": 14,
   "id": "b440aa05",
   "metadata": {},
   "outputs": [
    {
     "data": {
      "text/plain": [
       "TYPE DECLARATION          object\n",
       "SOUS TYPE DECLARATION     object\n",
       "ADRESSE                   object\n",
       "CODE POSTAL                int64\n",
       "ARRONDISSEMENT             int64\n",
       "CONSEIL DE QUARTIER       object\n",
       "DATE DECLARATION          object\n",
       "INTERVENANT               object\n",
       "X                        float64\n",
       "Y                        float64\n",
       "dtype: object"
      ]
     },
     "execution_count": 14,
     "metadata": {},
     "output_type": "execute_result"
    }
   ],
   "source": [
    "df1.dtypes"
   ]
  },
  {
   "cell_type": "code",
   "execution_count": null,
   "id": "9332842f",
   "metadata": {},
   "outputs": [],
   "source": []
  }
 ],
 "metadata": {
  "kernelspec": {
   "display_name": "Python 3",
   "language": "python",
   "name": "python3"
  },
  "language_info": {
   "codemirror_mode": {
    "name": "ipython",
    "version": 3
   },
   "file_extension": ".py",
   "mimetype": "text/x-python",
   "name": "python",
   "nbconvert_exporter": "python",
   "pygments_lexer": "ipython3",
   "version": "3.8.8"
  }
 },
 "nbformat": 4,
 "nbformat_minor": 5
}
