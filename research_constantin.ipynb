{
 "cells": [
  {
   "cell_type": "markdown",
   "metadata": {},
   "source": [
    "# This is Constantin research notebook for the project smart city"
   ]
  },
  {
   "cell_type": "markdown",
   "metadata": {},
   "source": [
    "### test_review nb "
   ]
  },
  {
   "cell_type": "markdown",
   "metadata": {},
   "source": [
    "<iframe src=\"https://opendata.paris.fr/explore/embed/dataset/dans-ma-rue/map/?disjunctive.type&disjunctive.soustype&disjunctive.code_postal&disjunctive.arrondissement&disjunctive.conseilquartier&disjunctive.prefixe&disjunctive.intervenant&sort=prefixe&basemap=jawg.dark&location=11,48.78221,2.2982&dataChart=eyJxdWVyaWVzIjpbeyJjaGFydHMiOlt7InR5cGUiOiJzY2F0dGVyIiwiZnVuYyI6IkFWRyIsInlBeGlzIjoiYXJyb25kaXNzZW1lbnQiLCJzY2llbnRpZmljRGlzcGxheSI6dHJ1ZSwiY29sb3IiOiIjMDAzMzY2IiwicG9zaXRpb24iOiJjZW50ZXIifV0sInhBeGlzIjoiY29kZV9wb3N0YWwiLCJtYXhwb2ludHMiOjEwMCwidGltZXNjYWxlIjoiIiwic29ydCI6InNlcmllMS0xIiwic2VyaWVzQnJlYWtkb3duIjoiIiwic2VyaWVzQnJlYWtkb3duVGltZXNjYWxlIjoiIiwiY29uZmlnIjp7ImRhdGFzZXQiOiJkYW5zLW1hLXJ1ZSIsIm9wdGlvbnMiOnsiZGlzanVuY3RpdmUudHlwZSI6dHJ1ZSwiZGlzanVuY3RpdmUuc291c3R5cGUiOnRydWUsImRpc2p1bmN0aXZlLmNvZGVfcG9zdGFsIjp0cnVlLCJkaXNqdW5jdGl2ZS5hcnJvbmRpc3NlbWVudCI6dHJ1ZSwiZGlzanVuY3RpdmUuY29uc2VpbHF1YXJ0aWVyIjp0cnVlLCJkaXNqdW5jdGl2ZS5wcmVmaXhlIjp0cnVlLCJkaXNqdW5jdGl2ZS5pbnRlcnZlbmFudCI6dHJ1ZSwic29ydCI6InByZWZpeGUifX19XSwiZGlzcGxheUxlZ2VuZCI6dHJ1ZSwiYWxpZ25Nb250aCI6dHJ1ZSwidGltZXNjYWxlIjoiIn0%3D&static=false&datasetcard=false&scrollWheelZoom=false\" width=\"800\" height=\"600\" frameborder=\"0\"></iframe>"
   ]
  },
  {
   "cell_type": "markdown",
   "metadata": {},
   "source": [
    "<iframe src=\"https://opendata.paris.fr/explore/embed/dataset/dans-ma-rue/analyze/?disjunctive.type&disjunctive.soustype&disjunctive.code_postal&disjunctive.arrondissement&disjunctive.conseilquartier&disjunctive.prefixe&disjunctive.intervenant&sort=prefixe&dataChart=eyJxdWVyaWVzIjpbeyJjaGFydHMiOlt7InR5cGUiOiJzY2F0dGVyIiwiZnVuYyI6Ik1BWCIsInlBeGlzIjoiYXJyb25kaXNzZW1lbnQiLCJzY2llbnRpZmljRGlzcGxheSI6dHJ1ZSwiY29sb3IiOiJyYW5nZS1jdXN0b20iLCJwb3NpdGlvbiI6ImNlbnRlciJ9XSwieEF4aXMiOiJjb25zZWlscXVhcnRpZXIiLCJtYXhwb2ludHMiOjIwMCwidGltZXNjYWxlIjoiIiwic29ydCI6IiIsInNlcmllc0JyZWFrZG93biI6ImRhdGVkZWNsIiwic2VyaWVzQnJlYWtkb3duVGltZXNjYWxlIjoieWVhciIsImNvbmZpZyI6eyJkYXRhc2V0IjoiZGFucy1tYS1ydWUiLCJvcHRpb25zIjp7ImRpc2p1bmN0aXZlLnR5cGUiOnRydWUsImRpc2p1bmN0aXZlLnNvdXN0eXBlIjp0cnVlLCJkaXNqdW5jdGl2ZS5jb2RlX3Bvc3RhbCI6dHJ1ZSwiZGlzanVuY3RpdmUuYXJyb25kaXNzZW1lbnQiOnRydWUsImRpc2p1bmN0aXZlLmNvbnNlaWxxdWFydGllciI6dHJ1ZSwiZGlzanVuY3RpdmUucHJlZml4ZSI6dHJ1ZSwiZGlzanVuY3RpdmUuaW50ZXJ2ZW5hbnQiOnRydWUsInNvcnQiOiJwcmVmaXhlIiwiYmFzZW1hcCI6Imphd2cuZGFyayIsImxvY2F0aW9uIjoiMTAsNDguODAxNjEsMi44Njg4In19fV0sImRpc3BsYXlMZWdlbmQiOnRydWUsImFsaWduTW9udGgiOnRydWUsInRpbWVzY2FsZSI6IiJ9&basemap=jawg.dark&location=10,48.80161,2.8688&static=false&datasetcard=false\" width=\"1200\" height=\"600\" frameborder=\"0\"></iframe>"
   ]
  }
 ],
 "metadata": {
  "interpreter": {
   "hash": "cefae1d297a016f23de07a08d7839e5c59c9ecca2542ab6d9efd4d08554b905b"
  },
  "kernelspec": {
   "display_name": "Python 3.8.10 64-bit ('3.8.10')",
   "language": "python",
   "name": "python3"
  },
  "language_info": {
   "codemirror_mode": {
    "name": "ipython",
    "version": 3
   },
   "file_extension": ".py",
   "mimetype": "text/x-python",
   "name": "python",
   "nbconvert_exporter": "python",
   "pygments_lexer": "ipython3",
   "version": "3.8.10"
  },
  "orig_nbformat": 4
 },
 "nbformat": 4,
 "nbformat_minor": 2
}
