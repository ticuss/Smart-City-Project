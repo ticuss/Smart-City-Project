{
 "cells": [
  {
   "cell_type": "code",
   "execution_count": 91,
   "metadata": {},
   "outputs": [],
   "source": [
    "from zipfile import ZipFile, Path\n",
    "import pandas as pd"
   ]
  },
  {
   "cell_type": "code",
   "execution_count": 92,
   "metadata": {},
   "outputs": [],
   "source": [
    "def get_data(path: str) -> pd.DataFrame:\n",
    "    '''\n",
    "    Get data from zip file\n",
    "    '''\n",
    "    with ZipFile(path) as myzip:\n",
    "        data = myzip.open(path.split('.zip')[0])\n",
    "\n",
    "    df = pd.read_csv(data, sep =';')\n",
    "    return df"
   ]
  },
  {
   "cell_type": "code",
   "execution_count": 93,
   "metadata": {},
   "outputs": [],
   "source": [
    "df_2021_2022 = get_data(\"DMR_2021_2022.csv.zip\")\n",
    "df_2020 = get_data(\"DMR_2020.csv.zip\")\n",
    "df_2019 = get_data(\"DMR_2019.csv.zip\")"
   ]
  },
  {
   "cell_type": "code",
   "execution_count": 94,
   "metadata": {},
   "outputs": [],
   "source": [
    "df_2021_2022[['X', 'Y']] = df_2021_2022['geo_point_2d'].str.split(',', expand=True)\n",
    "df_2021_2022['X'] = df_2021_2022['X'].astype(float)\n",
    "df_2021_2022['Y'] = df_2021_2022['Y'].astype(float)"
   ]
  },
  {
   "cell_type": "code",
   "execution_count": 95,
   "metadata": {},
   "outputs": [],
   "source": [
    "df_2021_2022 = df_2021_2022.drop(['ID DECLARATION', 'VILLE', 'ANNEE DECLARATION', 'MOIS DECLARATION',\n",
    "         'OUTIL SOURCE', 'ID_DMR', 'geo_shape', 'geo_point_2d', 'CONSEIL DE QUARTIER'], axis = 1)"
   ]
  },
  {
   "cell_type": "code",
   "execution_count": 98,
   "metadata": {},
   "outputs": [],
   "source": [
    "df_2019_2020 = pd.concat([df_2019, df_2020])\n",
    "df_2019_2020 = df_2019_2020.drop(['OBJECTID', 'ID_DMR', 'VILLE' ,'ANNEEDECL' ,'MOISDECL' ,'NUMERO','PREFIXE', 'CONSEILQUARTIER',  ], axis = 1)\n"
   ]
  },
  {
   "cell_type": "code",
   "execution_count": 100,
   "metadata": {},
   "outputs": [],
   "source": [
    "df_2019_2020.rename(columns = {'TYPE':'TYPE DECLARATION', 'SOUSTYPE':'SOUS TYPE DECLARATION', 'CODE_POSTAL':'CODE POSTAL', 'DATEDECL':'DATE DECLARATION'}, inplace = True)\n",
    "df_final = pd.concat([df_2021_2022, df_2019_2020])\n"
   ]
  },
  {
   "cell_type": "code",
   "execution_count": 101,
   "metadata": {},
   "outputs": [
    {
     "data": {
      "text/html": [
       "<div>\n",
       "<style scoped>\n",
       "    .dataframe tbody tr th:only-of-type {\n",
       "        vertical-align: middle;\n",
       "    }\n",
       "\n",
       "    .dataframe tbody tr th {\n",
       "        vertical-align: top;\n",
       "    }\n",
       "\n",
       "    .dataframe thead th {\n",
       "        text-align: right;\n",
       "    }\n",
       "</style>\n",
       "<table border=\"1\" class=\"dataframe\">\n",
       "  <thead>\n",
       "    <tr style=\"text-align: right;\">\n",
       "      <th></th>\n",
       "      <th>TYPE DECLARATION</th>\n",
       "      <th>SOUS TYPE DECLARATION</th>\n",
       "      <th>ADRESSE</th>\n",
       "      <th>CODE POSTAL</th>\n",
       "      <th>ARRONDISSEMENT</th>\n",
       "      <th>DATE DECLARATION</th>\n",
       "      <th>INTERVENANT</th>\n",
       "      <th>X</th>\n",
       "      <th>Y</th>\n",
       "    </tr>\n",
       "  </thead>\n",
       "  <tbody>\n",
       "    <tr>\n",
       "      <th>0</th>\n",
       "      <td>Mobiliers urbains</td>\n",
       "      <td>Collecte des déchets:Trilib' dégradé</td>\n",
       "      <td>18 Rue de Mazagran, 75010 PARIS</td>\n",
       "      <td>75010</td>\n",
       "      <td>10</td>\n",
       "      <td>2021-01-08</td>\n",
       "      <td>TRILIB'</td>\n",
       "      <td>48.870773</td>\n",
       "      <td>2.352241</td>\n",
       "    </tr>\n",
       "    <tr>\n",
       "      <th>1</th>\n",
       "      <td>Objets abandonnés</td>\n",
       "      <td>Autres objets encombrants abandonnés</td>\n",
       "      <td>58 Rue de l'Aqueduc, 75010 PARIS</td>\n",
       "      <td>75010</td>\n",
       "      <td>10</td>\n",
       "      <td>2021-01-08</td>\n",
       "      <td>Ramen en tant que prestataire de DansMaRue</td>\n",
       "      <td>48.882847</td>\n",
       "      <td>2.365264</td>\n",
       "    </tr>\n",
       "    <tr>\n",
       "      <th>2</th>\n",
       "      <td>Objets abandonnés</td>\n",
       "      <td>Autres objets encombrants abandonnés</td>\n",
       "      <td>106 Rue des Amandiers, 75020 PARIS</td>\n",
       "      <td>75020</td>\n",
       "      <td>20</td>\n",
       "      <td>2021-01-08</td>\n",
       "      <td>Ramen en tant que prestataire de DansMaRue</td>\n",
       "      <td>48.86778</td>\n",
       "      <td>2.388731</td>\n",
       "    </tr>\n",
       "    <tr>\n",
       "      <th>3</th>\n",
       "      <td>Graffitis, tags, affiches et autocollants</td>\n",
       "      <td>Graffitis sur mur, façade sur rue, pont</td>\n",
       "      <td>14 Rue Carrière-Mainguet, 75011 PARIS</td>\n",
       "      <td>75011</td>\n",
       "      <td>11</td>\n",
       "      <td>2021-01-08</td>\n",
       "      <td>graffitis</td>\n",
       "      <td>48.8566</td>\n",
       "      <td>2.387608</td>\n",
       "    </tr>\n",
       "    <tr>\n",
       "      <th>4</th>\n",
       "      <td>Objets abandonnés</td>\n",
       "      <td>Cartons</td>\n",
       "      <td>1 Square Alfred Capus, 75016 PARIS</td>\n",
       "      <td>75016</td>\n",
       "      <td>16</td>\n",
       "      <td>2021-01-08</td>\n",
       "      <td>DPE-STPP-DT</td>\n",
       "      <td>48.850937</td>\n",
       "      <td>2.259631</td>\n",
       "    </tr>\n",
       "  </tbody>\n",
       "</table>\n",
       "</div>"
      ],
      "text/plain": [
       "                            TYPE DECLARATION  \\\n",
       "0                          Mobiliers urbains   \n",
       "1                          Objets abandonnés   \n",
       "2                          Objets abandonnés   \n",
       "3  Graffitis, tags, affiches et autocollants   \n",
       "4                          Objets abandonnés   \n",
       "\n",
       "                     SOUS TYPE DECLARATION  \\\n",
       "0     Collecte des déchets:Trilib' dégradé   \n",
       "1     Autres objets encombrants abandonnés   \n",
       "2     Autres objets encombrants abandonnés   \n",
       "3  Graffitis sur mur, façade sur rue, pont   \n",
       "4                                  Cartons   \n",
       "\n",
       "                                 ADRESSE  CODE POSTAL  ARRONDISSEMENT  \\\n",
       "0        18 Rue de Mazagran, 75010 PARIS        75010              10   \n",
       "1       58 Rue de l'Aqueduc, 75010 PARIS        75010              10   \n",
       "2     106 Rue des Amandiers, 75020 PARIS        75020              20   \n",
       "3  14 Rue Carrière-Mainguet, 75011 PARIS        75011              11   \n",
       "4     1 Square Alfred Capus, 75016 PARIS        75016              16   \n",
       "\n",
       "  DATE DECLARATION                                 INTERVENANT          X  \\\n",
       "0       2021-01-08                                     TRILIB'  48.870773   \n",
       "1       2021-01-08  Ramen en tant que prestataire de DansMaRue  48.882847   \n",
       "2       2021-01-08  Ramen en tant que prestataire de DansMaRue   48.86778   \n",
       "3       2021-01-08                                   graffitis    48.8566   \n",
       "4       2021-01-08                                 DPE-STPP-DT  48.850937   \n",
       "\n",
       "          Y  \n",
       "0  2.352241  \n",
       "1  2.365264  \n",
       "2  2.388731  \n",
       "3  2.387608  \n",
       "4  2.259631  "
      ]
     },
     "execution_count": 101,
     "metadata": {},
     "output_type": "execute_result"
    }
   ],
   "source": [
    "df_final.head()"
   ]
  }
 ],
 "metadata": {
  "interpreter": {
   "hash": "1cd2e22a2735bc1e54b3db030ef4bd758bd7f3dbd182101d701803913275d8f7"
  },
  "kernelspec": {
   "display_name": "Python 3",
   "language": "python",
   "name": "python3"
  },
  "language_info": {
   "codemirror_mode": {
    "name": "ipython",
    "version": 3
   },
   "file_extension": ".py",
   "mimetype": "text/x-python",
   "name": "python",
   "nbconvert_exporter": "python",
   "pygments_lexer": "ipython3",
   "version": "3.8.10"
  }
 },
 "nbformat": 4,
 "nbformat_minor": 2
}
